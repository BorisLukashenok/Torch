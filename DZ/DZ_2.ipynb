{
 "cells": [
  {
   "cell_type": "markdown",
   "metadata": {},
   "source": [
    "# Домашнее задание 2 семинар"
   ]
  },
  {
   "cell_type": "markdown",
   "metadata": {},
   "source": [
    "## Задача 1\n",
    "Добиться хорошего результата от модели, собранной на занятии (5 угаданныx картинок из 8 предложенных). Варианты изменений:\n",
    "- изменение слоёв и их количества;\n",
    "- изменение метода оптимизации;\n",
    "- изменение процесса обучения;\n",
    "- *преобразование данных transform"
   ]
  },
  {
   "cell_type": "code",
   "execution_count": 27,
   "metadata": {},
   "outputs": [],
   "source": [
    "import torch\n",
    "from torch import optim\n",
    "import torch.nn.functional as F\n",
    "from torch.nn import Linear, CrossEntropyLoss, Module, MaxPool2d, Conv2d\n",
    "from torch.nn import Dropout2d, Dropout\n",
    "import torchvision.transforms as transforms\n",
    "from torchvision.datasets import CIFAR10, MNIST\n",
    "import matplotlib.pyplot as plt\n",
    "from tqdm import tqdm\n",
    "import numpy as np\n",
    "from termcolor import cprint\n"
   ]
  },
  {
   "cell_type": "code",
   "execution_count": 2,
   "metadata": {},
   "outputs": [
    {
     "name": "stdout",
     "output_type": "stream",
     "text": [
      "Files already downloaded and verified\n",
      "Files already downloaded and verified\n"
     ]
    }
   ],
   "source": [
    "\n",
    "train_dataset = CIFAR10(root='./dataset10',\n",
    "                        train=True,\n",
    "                        transform=transforms.Compose(\n",
    "                             [transforms.ToTensor(),\n",
    "                              transforms.Normalize((0.5, 0.5, 0.5), (0.5, 0.5, 0.5))]),\n",
    "                        download=True)\n",
    "train_loader = torch.utils.data.DataLoader(dataset=train_dataset,\n",
    "                                           batch_size=4,\n",
    "                                           shuffle=True)\n",
    "test_dataset = CIFAR10(root='./dataset10', train=False,\n",
    "                       download=True, transform=transforms.Compose(\n",
    "                           [transforms.ToTensor(),\n",
    "                            transforms.Normalize((0.5, 0.5, 0.5), (0.5, 0.5, 0.5))]))\n",
    "test_loader = torch.utils.data.DataLoader(test_dataset, batch_size=4,\n",
    "                                          shuffle=False)\n"
   ]
  },
  {
   "cell_type": "code",
   "execution_count": 3,
   "metadata": {},
   "outputs": [
    {
     "name": "stdout",
     "output_type": "stream",
     "text": [
      "12500\n",
      "torch.Size([3, 32, 32])\n",
      "9\n"
     ]
    }
   ],
   "source": [
    "image, label = train_dataset[50]\n",
    "print(len(train_loader))\n",
    "print(image.size())\n",
    "print(label)\n"
   ]
  },
  {
   "cell_type": "code",
   "execution_count": 4,
   "metadata": {},
   "outputs": [
    {
     "data": {
      "image/png": "[encoded data removed]",
      "text/plain": [
       "<Figure size 640x480 with 1 Axes>"
      ]
     },
     "metadata": {},
     "output_type": "display_data"
    }
   ],
   "source": [
    "plt.imshow(image.permute(1, 2, 0).numpy())\n",
    "plt.show()"
   ]
  },
  {
   "cell_type": "code",
   "execution_count": 5,
   "metadata": {},
   "outputs": [],
   "source": [
    "class Net(Module):\n",
    "    def __init__(self):\n",
    "        super().__init__()\n",
    "        self.conv1 = Conv2d(3, 6, 5)\n",
    "        self.pool = MaxPool2d(2, 2)\n",
    "        self.conv2 = Conv2d(6, 16, 5)\n",
    "        self.fc1 = Linear(16 * 5 * 5, 120)\n",
    "        self.fc2 = Linear(120, 84)\n",
    "        self.fc3 = Linear(84, 10)\n",
    "\n",
    "    def forward(self, x):\n",
    "        x = self.pool(F.relu(self.conv1(x)))\n",
    "        x = self.pool(F.relu(self.conv2(x)))\n",
    "        x = torch.flatten(x, 1) \n",
    "        x = F.relu(self.fc1(x))\n",
    "        x = F.relu(self.fc2(x))\n",
    "        x = self.fc3(x)\n",
    "        return x"
   ]
  },
  {
   "cell_type": "code",
   "execution_count": 6,
   "metadata": {},
   "outputs": [],
   "source": [
    "net = Net().cuda()"
   ]
  },
  {
   "cell_type": "code",
   "execution_count": 16,
   "metadata": {},
   "outputs": [
    {
     "name": "stderr",
     "output_type": "stream",
     "text": [
      "  0%|          | 0/10 [00:00<?, ?it/s]"
     ]
    },
    {
     "name": "stdout",
     "output_type": "stream",
     "text": [
      "[1,  2001] loss: 0.822\n",
      "[1,  4001] loss: 0.841\n",
      "[1,  6001] loss: 0.877\n",
      "[1,  8001] loss: 0.892\n",
      "[1, 10001] loss: 0.880\n",
      "[1, 12001] loss: 0.907\n"
     ]
    },
    {
     "name": "stderr",
     "output_type": "stream",
     "text": [
      " 10%|█         | 1/10 [00:38<05:42, 38.08s/it]"
     ]
    },
    {
     "name": "stdout",
     "output_type": "stream",
     "text": [
      "[2,  2001] loss: 0.786\n",
      "[2,  4001] loss: 0.827\n",
      "[2,  6001] loss: 0.846\n",
      "[2,  8001] loss: 0.853\n",
      "[2, 10001] loss: 0.867\n",
      "[2, 12001] loss: 0.893\n"
     ]
    },
    {
     "name": "stderr",
     "output_type": "stream",
     "text": [
      " 20%|██        | 2/10 [01:16<05:06, 38.32s/it]"
     ]
    },
    {
     "name": "stdout",
     "output_type": "stream",
     "text": [
      "[3,  2001] loss: 0.781\n",
      "[3,  4001] loss: 0.786\n",
      "[3,  6001] loss: 0.822\n",
      "[3,  8001] loss: 0.856\n",
      "[3, 10001] loss: 0.851\n",
      "[3, 12001] loss: 0.841\n"
     ]
    },
    {
     "name": "stderr",
     "output_type": "stream",
     "text": [
      " 30%|███       | 3/10 [01:55<04:30, 38.60s/it]"
     ]
    },
    {
     "name": "stdout",
     "output_type": "stream",
     "text": [
      "[4,  2001] loss: 0.734\n",
      "[4,  4001] loss: 0.770\n",
      "[4,  6001] loss: 0.800\n",
      "[4,  8001] loss: 0.808\n",
      "[4, 10001] loss: 0.839\n",
      "[4, 12001] loss: 0.858\n"
     ]
    },
    {
     "name": "stderr",
     "output_type": "stream",
     "text": [
      " 40%|████      | 4/10 [02:34<03:53, 38.92s/it]"
     ]
    },
    {
     "name": "stdout",
     "output_type": "stream",
     "text": [
      "[5,  2001] loss: 0.721\n",
      "[5,  4001] loss: 0.772\n",
      "[5,  6001] loss: 0.776\n",
      "[5,  8001] loss: 0.793\n",
      "[5, 10001] loss: 0.816\n",
      "[5, 12001] loss: 0.820\n"
     ]
    },
    {
     "name": "stderr",
     "output_type": "stream",
     "text": [
      " 50%|█████     | 5/10 [03:14<03:16, 39.21s/it]"
     ]
    },
    {
     "name": "stdout",
     "output_type": "stream",
     "text": [
      "[6,  2001] loss: 0.693\n",
      "[6,  4001] loss: 0.765\n",
      "[6,  6001] loss: 0.746\n",
      "[6,  8001] loss: 0.785\n",
      "[6, 10001] loss: 0.801\n",
      "[6, 12001] loss: 0.818\n"
     ]
    },
    {
     "name": "stderr",
     "output_type": "stream",
     "text": [
      " 60%|██████    | 6/10 [03:53<02:35, 38.99s/it]"
     ]
    },
    {
     "name": "stdout",
     "output_type": "stream",
     "text": [
      "[7,  2001] loss: 0.678\n",
      "[7,  4001] loss: 0.727\n",
      "[7,  6001] loss: 0.737\n",
      "[7,  8001] loss: 0.763\n",
      "[7, 10001] loss: 0.790\n",
      "[7, 12001] loss: 0.799\n"
     ]
    },
    {
     "name": "stderr",
     "output_type": "stream",
     "text": [
      " 70%|███████   | 7/10 [04:31<01:56, 38.78s/it]"
     ]
    },
    {
     "name": "stdout",
     "output_type": "stream",
     "text": [
      "[8,  2001] loss: 0.648\n",
      "[8,  4001] loss: 0.705\n",
      "[8,  6001] loss: 0.749\n",
      "[8,  8001] loss: 0.758\n",
      "[8, 10001] loss: 0.749\n",
      "[8, 12001] loss: 0.773\n"
     ]
    },
    {
     "name": "stderr",
     "output_type": "stream",
     "text": [
      " 80%|████████  | 8/10 [05:11<01:18, 39.02s/it]"
     ]
    },
    {
     "name": "stdout",
     "output_type": "stream",
     "text": [
      "[9,  2001] loss: 0.660\n",
      "[9,  4001] loss: 0.698\n",
      "[9,  6001] loss: 0.732\n",
      "[9,  8001] loss: 0.755\n",
      "[9, 10001] loss: 0.753\n",
      "[9, 12001] loss: 0.785\n"
     ]
    },
    {
     "name": "stderr",
     "output_type": "stream",
     "text": [
      " 90%|█████████ | 9/10 [05:50<00:39, 39.06s/it]"
     ]
    },
    {
     "name": "stdout",
     "output_type": "stream",
     "text": [
      "[10,  2001] loss: 0.649\n",
      "[10,  4001] loss: 0.678\n",
      "[10,  6001] loss: 0.710\n",
      "[10,  8001] loss: 0.727\n",
      "[10, 10001] loss: 0.725\n",
      "[10, 12001] loss: 0.775\n"
     ]
    },
    {
     "name": "stderr",
     "output_type": "stream",
     "text": [
      "100%|██████████| 10/10 [06:29<00:00, 38.95s/it]"
     ]
    },
    {
     "name": "stdout",
     "output_type": "stream",
     "text": [
      "Training is finished!\n"
     ]
    },
    {
     "name": "stderr",
     "output_type": "stream",
     "text": [
      "\n"
     ]
    }
   ],
   "source": [
    "net.train()\n",
    "epochs = 20\n",
    "criterion = CrossEntropyLoss()\n",
    "optimizer = optim.SGD(net.parameters(), lr=0.001, momentum=0.9)\n",
    "for epoch in tqdm(range(epochs)):  \n",
    "    running_loss = 0.0\n",
    "    for i, data in enumerate(train_loader):\n",
    "        inputs, labels = data[0].cuda(), data[1].cuda()\n",
    "        optimizer.zero_grad()\n",
    "\n",
    "        outputs = net(inputs)\n",
    "        loss = criterion(outputs, labels)\n",
    "        loss.backward()\n",
    "        optimizer.step()\n",
    "        running_loss += loss.item()\n",
    "        if not (i % 2000) and i != 0: \n",
    "            print(f'[{epoch + 1}, {(i + 1):5d}] loss: {(running_loss / 2000):.3f}')\n",
    "            running_loss = 0.0\n",
    "\n",
    "print('Training is finished!')"
   ]
  },
  {
   "cell_type": "code",
   "execution_count": 17,
   "metadata": {},
   "outputs": [],
   "source": [
    "classes = ('plane', 'car', 'bird', 'cat',\n",
    "           'deer', 'dog', 'frog', 'horse', 'ship', 'truck')\n"
   ]
  },
  {
   "cell_type": "code",
   "execution_count": 24,
   "metadata": {},
   "outputs": [
    {
     "name": "stdout",
     "output_type": "stream",
     "text": [
      "Предсказано: | Реально:\n",
      "\u001b[32mcat             cat\u001b[0m\n",
      "\u001b[32mship            ship\u001b[0m\n",
      "\u001b[32mship            ship\u001b[0m\n",
      "\u001b[32mplane           plane\u001b[0m\n",
      "\u001b[32mfrog            frog\u001b[0m\n",
      "\u001b[32mfrog            frog\u001b[0m\n",
      "\u001b[32mcar             car\u001b[0m\n",
      "\u001b[32mfrog            frog\u001b[0m\n",
      "\u001b[32mcat             cat\u001b[0m\n",
      "\u001b[32mcar             car\u001b[0m\n",
      "\u001b[32mplane           plane\u001b[0m\n",
      "\u001b[32mtruck           truck\u001b[0m\n",
      "\u001b[31mcat             dog\u001b[0m\n",
      "\u001b[32mhorse           horse\u001b[0m\n",
      "\u001b[32mtruck           truck\u001b[0m\n",
      "\u001b[32mship            ship\u001b[0m\n",
      "\u001b[32mdog             dog\u001b[0m\n",
      "\u001b[31mcat             horse\u001b[0m\n",
      "\u001b[32mship            ship\u001b[0m\n",
      "\u001b[32mfrog            frog\u001b[0m\n",
      "\u001b[32mhorse           horse\u001b[0m\n",
      "\u001b[32mplane           plane\u001b[0m\n",
      "\u001b[31mbird            deer\u001b[0m\n",
      "\u001b[32mtruck           truck\u001b[0m\n",
      "\u001b[34mИз 24 угадано 21. 87.50%\u001b[0m\n"
     ]
    }
   ],
   "source": [
    "net.eval()\n",
    "stop = 5\n",
    "alls = (stop + 1) * 4\n",
    "verifi = 0\n",
    "print('Предсказано: | Реально:')\n",
    "for k, data in enumerate(test_loader):\n",
    "    inputs, labels = data[0].cuda(), data[1]\n",
    "    pred = net(inputs).cpu()\n",
    "    pred = pred.detach().numpy()\n",
    "    labels = labels.numpy()\n",
    "    for j, i in enumerate(pred):\n",
    "        ind_p = np.argmax(i)\n",
    "        ind_r = labels[j]\n",
    "        if ind_p == ind_r:\n",
    "            verifi += 1\n",
    "        cprint(f'{classes[ind_p]:16s}{classes[ind_r]}', 'green' if ind_p == ind_r else 'red')\n",
    "    if k == stop:\n",
    "        break\n",
    "cprint(f'Из {alls} угадано {verifi}. {verifi / alls * 100:3.2f}%', 'blue' )\n"
   ]
  },
  {
   "cell_type": "markdown",
   "metadata": {},
   "source": [
    "## Задача 2  \n",
    "\n",
    "Переписать данный туториал на PyTorch: https://www.tensorflow.org/tutorials/quickstart/beginner?hl=ru"
   ]
  },
  {
   "cell_type": "code",
   "execution_count": 40,
   "metadata": {},
   "outputs": [],
   "source": [
    "class MnistNet(Module):\n",
    "    def __init__(self):\n",
    "        super(MnistNet, self).__init__()\n",
    "        self.conv1 = Conv2d(1, 32, 3, 1)\n",
    "        self.conv2 = Conv2d(32, 64, 3, 1)\n",
    "        self.dropout1 = Dropout(0.25)\n",
    "        self.dropout2 = Dropout(0.5)\n",
    "        self.fc1 = Linear(9216, 128)\n",
    "        self.fc2 = Linear(128, 10)\n",
    "\n",
    "    def forward(self, x):\n",
    "        x = self.conv1(x)\n",
    "        x = F.relu(x)\n",
    "        x = self.conv2(x)\n",
    "        x = F.relu(x)\n",
    "        x = F.max_pool2d(x, 2)\n",
    "        x = self.dropout1(x)\n",
    "        x = torch.flatten(x, 1)\n",
    "        x = self.fc1(x)\n",
    "        x = F.relu(x)\n",
    "        x = self.dropout2(x)\n",
    "        x = self.fc2(x)\n",
    "        output = F.log_softmax(x, dim=1)\n",
    "        return output"
   ]
  },
  {
   "cell_type": "code",
   "execution_count": 41,
   "metadata": {},
   "outputs": [],
   "source": [
    "img_rows = img_cols = 28\n",
    "num_classes = 10\n",
    "batch_size = 256\n",
    "trn_data = MNIST(root = 'MNIST', train = True,\n",
    "                           download = True, transform = transforms.ToTensor())\n",
    "tst_data = MNIST(root = 'MNIST', train = False,\n",
    "                           download = True, transform = transforms.ToTensor())\n",
    "trn_loader = torch.utils.data.DataLoader(trn_data, batch_size = batch_size, shuffle = True)\n",
    "tst_loader = torch.utils.data.DataLoader(tst_data, batch_size = batch_size, shuffle = True)\n"
   ]
  },
  {
   "cell_type": "code",
   "execution_count": 44,
   "metadata": {},
   "outputs": [],
   "source": [
    "mnist = MnistNet().cuda()"
   ]
  },
  {
   "cell_type": "code",
   "execution_count": 45,
   "metadata": {},
   "outputs": [
    {
     "name": "stderr",
     "output_type": "stream",
     "text": [
      "100%|██████████| 20/20 [03:41<00:00, 11.09s/it]\n"
     ]
    }
   ],
   "source": [
    "net.train()\n",
    "epochs = 20\n",
    "optimizer = optim.Adadelta(net.parameters(), lr=0.001)\n",
    "for epoch in tqdm(range(epochs)):  \n",
    "    running_loss = 0.0\n",
    "    for i, data in enumerate(trn_loader):\n",
    "        inputs, labels = data[0].cuda(), data[1].cuda()\n",
    "        optimizer.zero_grad()\n",
    "\n",
    "        outputs = mnist(inputs)\n",
    "        loss = F.nll_loss(outputs, labels)\n",
    "        loss.backward()\n",
    "        optimizer.step()\n",
    "        running_loss += loss.item()\n",
    "        if not (i % 2000) and i != 0: \n",
    "            print(f'[{epoch + 1}, {(i + 1):5d}] loss: {(running_loss / 2000):.3f}')\n",
    "            running_loss = 0.0\n"
   ]
  },
  {
   "cell_type": "code",
   "execution_count": 46,
   "metadata": {},
   "outputs": [
    {
     "name": "stdout",
     "output_type": "stream",
     "text": [
      "\n",
      "Test set: Average loss: 2.3046, Accuracy: 990/10000 (10%)\n",
      "\n"
     ]
    }
   ],
   "source": [
    "mnist.eval()\n",
    "test_loss = 0\n",
    "correct = 0\n",
    "with torch.no_grad():\n",
    "    for data, target in tst_loader:\n",
    "        data, target = data.cuda(), target.cuda()\n",
    "        output = mnist(data)\n",
    "        test_loss += F.nll_loss(output, target, reduction='sum').item()  # sum up batch loss\n",
    "        pred = output.argmax(dim=1, keepdim=True)  # get the index of the max log-probability\n",
    "        correct += pred.eq(target.view_as(pred)).sum().item()\n",
    "\n",
    "test_loss /= len(tst_loader.dataset)\n",
    "\n",
    "print(f'\\nTest set: Average loss: {test_loss:.4f}, Accuracy: {correct}/{len(tst_loader.dataset)} ({100. * correct / len(tst_loader.dataset):.0f}%)\\n')"
   ]
  }
 ],
 "metadata": {
  "kernelspec": {
   "display_name": "Python 3",
   "language": "python",
   "name": "python3"
  },
  "language_info": {
   "codemirror_mode": {
    "name": "ipython",
    "version": 3
   },
   "file_extension": ".py",
   "mimetype": "text/x-python",
   "name": "python",
   "nbconvert_exporter": "python",
   "pygments_lexer": "ipython3",
   "version": "3.11.1"
  }
 },
 "nbformat": 4,
 "nbformat_minor": 2
}
