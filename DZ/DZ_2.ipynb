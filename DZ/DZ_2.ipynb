{
 "cells": [
  {
   "cell_type": "markdown",
   "metadata": {},
   "source": [
    "# Задача\n",
    "Добиться хорошего результата от модели, собранной на занятии (5 угаданныx картинок из 8 предложенных). Варианты изменений:\n",
    "- изменение слоёв и их количества;\n",
    "- изменение метода оптимизации;\n",
    "- изменение процесса обучения;\n",
    "- *преобразование данных transform"
   ]
  },
  {
   "cell_type": "code",
   "execution_count": 1,
   "metadata": {},
   "outputs": [],
   "source": [
    "# Сделаем необходимые импорты\n",
    "import torch\n",
    "from torch import optim\n",
    "import torch.nn.functional as F\n",
    "from torch.nn import Linear, CrossEntropyLoss, Module, Dropout, BatchNorm1d\n",
    "import torchvision.transforms as transforms\n",
    "from torchvision.datasets import CIFAR10\n",
    "import matplotlib.pyplot as plt\n",
    "from tqdm import tqdm\n",
    "import numpy as np\n"
   ]
  },
  {
   "cell_type": "code",
   "execution_count": 2,
   "metadata": {},
   "outputs": [
    {
     "name": "stdout",
     "output_type": "stream",
     "text": [
      "Files already downloaded and verified\n",
      "Files already downloaded and verified\n"
     ]
    }
   ],
   "source": [
    "\n",
    "train_dataset = CIFAR10(root='./dataset10',\n",
    "                         train=True,\n",
    "                         transform=transforms.ToTensor(),\n",
    "                         download=True)\n",
    "train_loader = torch.utils.data.DataLoader(dataset=train_dataset,\n",
    "                                           batch_size=64,\n",
    "                                           shuffle=True)\n",
    "test_dataset = CIFAR10(root='./dataset10', train=False,\n",
    "                       download=True, transform=transforms.ToTensor())\n",
    "test_loader = torch.utils.data.DataLoader(test_dataset, batch_size=4,\n",
    "                                          shuffle=False)\n"
   ]
  },
  {
   "cell_type": "code",
   "execution_count": 3,
   "metadata": {},
   "outputs": [
    {
     "name": "stdout",
     "output_type": "stream",
     "text": [
      "782\n",
      "torch.Size([3, 32, 32])\n",
      "9\n"
     ]
    }
   ],
   "source": [
    "image, label = train_dataset[50]\n",
    "print(len(train_loader))\n",
    "print(image.size())\n",
    "print(label)\n"
   ]
  },
  {
   "cell_type": "code",
   "execution_count": 4,
   "metadata": {},
   "outputs": [
    {
     "data": {
      "image/png": "[encoded data removed]",
      "text/plain": [
       "<Figure size 640x480 with 1 Axes>"
      ]
     },
     "metadata": {},
     "output_type": "display_data"
    }
   ],
   "source": [
    "plt.imshow(image.permute(1, 2, 0).numpy())\n",
    "plt.show()"
   ]
  },
  {
   "cell_type": "code",
   "execution_count": 29,
   "metadata": {},
   "outputs": [],
   "source": [
    "# Создайте собственную архитектуру! Можете использовать все, что угодно, \n",
    "# но в ограничении на использование линейные слои (пока без сверток)\n",
    "# Давайте добавим ограниченный Leaky_relu, то есть output = max(0.1x, 0.5x)\n",
    "# Ваша задача добавить его в архитектуру сети как функцию активации\n",
    "class Net(Module):\n",
    "    def __init__(self, input_dim, hidden_dim, output_dim):\n",
    "        super().__init__()\n",
    "        self.fc1 = Linear(input_dim, 6 * hidden_dim)\n",
    "        self.fc2 = Linear(6 * hidden_dim, 4 * hidden_dim)\n",
    "        self.fc3 = Linear(4 * hidden_dim, 2 * hidden_dim)\n",
    "        self.fc4 = Linear(2 * hidden_dim, hidden_dim)\n",
    "        self.fc5 = Linear(hidden_dim, output_dim)\n",
    "# ? Переопределение?\n",
    "#  В какой момент вызывается?\n",
    "    def forward(self, x):\n",
    "        x = x.view(x.shape[0], -1)\n",
    "        x = self.fc1(x)\n",
    "        x = F.leaky_relu(x, 0.05)\n",
    "        x = self.fc2(x)\n",
    "        x = F.leaky_relu(x, 0.05)\n",
    "        x = self.fc3(x)\n",
    "        x = F.leaky_relu(x, 0.05)\n",
    "        x = self.fc4(x)\n",
    "        x = F.leaky_relu(x, 0.05)\n",
    "        x = self.fc5(x)\n",
    "        x = F.softmax(x, dim=1)\n",
    "        return x"
   ]
  },
  {
   "cell_type": "code",
   "execution_count": 30,
   "metadata": {},
   "outputs": [],
   "source": [
    "net = Net(3072, 100, 10).cuda()"
   ]
  },
  {
   "cell_type": "code",
   "execution_count": 35,
   "metadata": {},
   "outputs": [
    {
     "name": "stderr",
     "output_type": "stream",
     "text": [
      "  0%|          | 0/100 [00:00<?, ?it/s]"
     ]
    },
    {
     "name": "stdout",
     "output_type": "stream",
     "text": [
      "[1,   201] loss: 2.374\n",
      "[1,   401] loss: 2.356\n",
      "[1,   601] loss: 2.361\n"
     ]
    },
    {
     "name": "stderr",
     "output_type": "stream",
     "text": [
      "  1%|          | 1/100 [00:10<17:18, 10.49s/it]"
     ]
    },
    {
     "name": "stdout",
     "output_type": "stream",
     "text": [
      "[2,   201] loss: 2.377\n",
      "[2,   401] loss: 2.361\n",
      "[2,   601] loss: 2.360\n"
     ]
    },
    {
     "name": "stderr",
     "output_type": "stream",
     "text": [
      "  2%|▏         | 2/100 [00:21<17:11, 10.52s/it]"
     ]
    },
    {
     "name": "stdout",
     "output_type": "stream",
     "text": [
      "[3,   201] loss: 2.376\n",
      "[3,   401] loss: 2.360\n",
      "[3,   601] loss: 2.360\n"
     ]
    },
    {
     "name": "stderr",
     "output_type": "stream",
     "text": [
      "  3%|▎         | 3/100 [00:31<17:06, 10.59s/it]"
     ]
    },
    {
     "name": "stdout",
     "output_type": "stream",
     "text": [
      "[4,   201] loss: 2.372\n",
      "[4,   401] loss: 2.358\n",
      "[4,   601] loss: 2.362\n"
     ]
    },
    {
     "name": "stderr",
     "output_type": "stream",
     "text": [
      "  4%|▍         | 4/100 [00:42<17:02, 10.65s/it]"
     ]
    },
    {
     "name": "stdout",
     "output_type": "stream",
     "text": [
      "[5,   201] loss: 2.372\n",
      "[5,   401] loss: 2.357\n",
      "[5,   601] loss: 2.367\n"
     ]
    },
    {
     "name": "stderr",
     "output_type": "stream",
     "text": [
      "  5%|▌         | 5/100 [00:53<16:51, 10.64s/it]"
     ]
    },
    {
     "name": "stdout",
     "output_type": "stream",
     "text": [
      "[6,   201] loss: 2.368\n",
      "[6,   401] loss: 2.364\n",
      "[6,   601] loss: 2.363\n"
     ]
    },
    {
     "name": "stderr",
     "output_type": "stream",
     "text": [
      "  6%|▌         | 6/100 [01:03<16:28, 10.51s/it]"
     ]
    },
    {
     "name": "stdout",
     "output_type": "stream",
     "text": [
      "[7,   201] loss: 2.374\n",
      "[7,   401] loss: 2.359\n",
      "[7,   601] loss: 2.360\n"
     ]
    },
    {
     "name": "stderr",
     "output_type": "stream",
     "text": [
      "  7%|▋         | 7/100 [01:13<16:13, 10.47s/it]"
     ]
    },
    {
     "name": "stdout",
     "output_type": "stream",
     "text": [
      "[8,   201] loss: 2.369\n",
      "[8,   401] loss: 2.358\n",
      "[8,   601] loss: 2.362\n"
     ]
    },
    {
     "name": "stderr",
     "output_type": "stream",
     "text": [
      "  8%|▊         | 8/100 [01:24<16:02, 10.46s/it]"
     ]
    },
    {
     "name": "stdout",
     "output_type": "stream",
     "text": [
      "[9,   201] loss: 2.374\n",
      "[9,   401] loss: 2.362\n",
      "[9,   601] loss: 2.359\n"
     ]
    },
    {
     "name": "stderr",
     "output_type": "stream",
     "text": [
      "  9%|▉         | 9/100 [01:34<15:54, 10.49s/it]"
     ]
    },
    {
     "name": "stdout",
     "output_type": "stream",
     "text": [
      "[10,   201] loss: 2.369\n",
      "[10,   401] loss: 2.360\n",
      "[10,   601] loss: 2.366\n"
     ]
    },
    {
     "name": "stderr",
     "output_type": "stream",
     "text": [
      " 10%|█         | 10/100 [01:45<15:43, 10.49s/it]"
     ]
    },
    {
     "name": "stdout",
     "output_type": "stream",
     "text": [
      "[11,   201] loss: 2.373\n",
      "[11,   401] loss: 2.359\n",
      "[11,   601] loss: 2.364\n"
     ]
    },
    {
     "name": "stderr",
     "output_type": "stream",
     "text": [
      " 11%|█         | 11/100 [01:55<15:32, 10.48s/it]"
     ]
    },
    {
     "name": "stdout",
     "output_type": "stream",
     "text": [
      "[12,   201] loss: 2.374\n",
      "[12,   401] loss: 2.361\n",
      "[12,   601] loss: 2.359\n"
     ]
    },
    {
     "name": "stderr",
     "output_type": "stream",
     "text": [
      " 12%|█▏        | 12/100 [02:06<15:21, 10.47s/it]"
     ]
    },
    {
     "name": "stdout",
     "output_type": "stream",
     "text": [
      "[13,   201] loss: 2.376\n",
      "[13,   401] loss: 2.358\n",
      "[13,   601] loss: 2.362\n"
     ]
    },
    {
     "name": "stderr",
     "output_type": "stream",
     "text": [
      " 13%|█▎        | 13/100 [02:16<15:18, 10.55s/it]"
     ]
    },
    {
     "name": "stdout",
     "output_type": "stream",
     "text": [
      "[14,   201] loss: 2.372\n",
      "[14,   401] loss: 2.366\n",
      "[14,   601] loss: 2.359\n"
     ]
    },
    {
     "name": "stderr",
     "output_type": "stream",
     "text": [
      " 14%|█▍        | 14/100 [02:27<15:12, 10.61s/it]"
     ]
    },
    {
     "name": "stdout",
     "output_type": "stream",
     "text": [
      "[15,   201] loss: 2.372\n",
      "[15,   401] loss: 2.364\n",
      "[15,   601] loss: 2.358\n"
     ]
    },
    {
     "name": "stderr",
     "output_type": "stream",
     "text": [
      " 15%|█▌        | 15/100 [02:38<14:57, 10.56s/it]"
     ]
    },
    {
     "name": "stdout",
     "output_type": "stream",
     "text": [
      "[16,   201] loss: 2.372\n",
      "[16,   401] loss: 2.362\n",
      "[16,   601] loss: 2.362\n"
     ]
    },
    {
     "name": "stderr",
     "output_type": "stream",
     "text": [
      " 16%|█▌        | 16/100 [02:48<14:43, 10.52s/it]"
     ]
    },
    {
     "name": "stdout",
     "output_type": "stream",
     "text": [
      "[17,   201] loss: 2.371\n",
      "[17,   401] loss: 2.361\n",
      "[17,   601] loss: 2.366\n"
     ]
    },
    {
     "name": "stderr",
     "output_type": "stream",
     "text": [
      " 17%|█▋        | 17/100 [02:58<14:29, 10.48s/it]"
     ]
    },
    {
     "name": "stdout",
     "output_type": "stream",
     "text": [
      "[18,   201] loss: 2.372\n",
      "[18,   401] loss: 2.362\n",
      "[18,   601] loss: 2.361\n"
     ]
    },
    {
     "name": "stderr",
     "output_type": "stream",
     "text": [
      " 18%|█▊        | 18/100 [03:09<14:24, 10.55s/it]"
     ]
    },
    {
     "name": "stdout",
     "output_type": "stream",
     "text": [
      "[19,   201] loss: 2.371\n",
      "[19,   401] loss: 2.363\n",
      "[19,   601] loss: 2.362\n"
     ]
    },
    {
     "name": "stderr",
     "output_type": "stream",
     "text": [
      " 19%|█▉        | 19/100 [03:20<14:20, 10.62s/it]"
     ]
    },
    {
     "name": "stdout",
     "output_type": "stream",
     "text": [
      "[20,   201] loss: 2.375\n",
      "[20,   401] loss: 2.361\n",
      "[20,   601] loss: 2.358\n"
     ]
    },
    {
     "name": "stderr",
     "output_type": "stream",
     "text": [
      " 20%|██        | 20/100 [03:30<14:06, 10.58s/it]"
     ]
    },
    {
     "name": "stdout",
     "output_type": "stream",
     "text": [
      "[21,   201] loss: 2.370\n",
      "[21,   401] loss: 2.360\n",
      "[21,   601] loss: 2.363\n"
     ]
    },
    {
     "name": "stderr",
     "output_type": "stream",
     "text": [
      " 21%|██        | 21/100 [03:41<14:03, 10.67s/it]"
     ]
    },
    {
     "name": "stdout",
     "output_type": "stream",
     "text": [
      "[22,   201] loss: 2.369\n",
      "[22,   401] loss: 2.365\n",
      "[22,   601] loss: 2.362\n"
     ]
    },
    {
     "name": "stderr",
     "output_type": "stream",
     "text": [
      " 22%|██▏       | 22/100 [03:52<13:59, 10.76s/it]"
     ]
    },
    {
     "name": "stdout",
     "output_type": "stream",
     "text": [
      "[23,   201] loss: 2.374\n",
      "[23,   401] loss: 2.360\n",
      "[23,   601] loss: 2.362\n"
     ]
    },
    {
     "name": "stderr",
     "output_type": "stream",
     "text": [
      " 23%|██▎       | 23/100 [04:03<13:47, 10.74s/it]"
     ]
    },
    {
     "name": "stdout",
     "output_type": "stream",
     "text": [
      "[24,   201] loss: 2.368\n",
      "[24,   401] loss: 2.362\n",
      "[24,   601] loss: 2.365\n"
     ]
    },
    {
     "name": "stderr",
     "output_type": "stream",
     "text": [
      " 24%|██▍       | 24/100 [04:14<13:38, 10.77s/it]"
     ]
    },
    {
     "name": "stdout",
     "output_type": "stream",
     "text": [
      "[25,   201] loss: 2.372\n"
     ]
    }
   ],
   "source": [
    "# Запустить обучение (по аналогии с тем, что делали на паре)\n",
    "net.train()\n",
    "epochs = 100\n",
    "criterion = CrossEntropyLoss()\n",
    "optimizer = optim.Adam(net.parameters(), lr=0.001)\n",
    "for epoch in tqdm(range(epochs)):  \n",
    "    running_loss = 0.0\n",
    "    # ? Subscrable\n",
    "    for i, data in enumerate(train_loader):\n",
    "        inputs, labels = data[0].cuda(), data[1].cuda()\n",
    "\n",
    "        # обнуляем градиент\n",
    "        optimizer.zero_grad()\n",
    "\n",
    "        outputs = net(inputs)\n",
    "        loss = criterion(outputs, labels)\n",
    "        loss.backward()\n",
    "        optimizer.step()\n",
    "\n",
    "        # выводим статистику о процессе обучения\n",
    "        running_loss += loss.item()\n",
    "        if not (i % 200) and i != 0:    # печатаем каждые 300 mini-batches\n",
    "        # ? Почему не running_loss / len(running_loss)\n",
    "            print(f'[{epoch + 1}, {(i + 1):5d}] loss: {(running_loss / 200):.3f}')\n",
    "            running_loss = 0.0\n",
    "\n",
    "print('Training is finished!')"
   ]
  },
  {
   "cell_type": "code",
   "execution_count": 8,
   "metadata": {},
   "outputs": [],
   "source": [
    "classes = ('plane', 'car', 'bird', 'cat',\n",
    "           'deer', 'dog', 'frog', 'horse', 'ship', 'truck')\n"
   ]
  },
  {
   "cell_type": "code",
   "execution_count": 27,
   "metadata": {},
   "outputs": [
    {
     "name": "stdout",
     "output_type": "stream",
     "text": [
      "Предсказано: cat\n",
      "Реально: cat\n",
      "\n",
      "Предсказано: truck\n",
      "Реально: ship\n",
      "\n",
      "Предсказано: ship\n",
      "Реально: ship\n",
      "\n",
      "Предсказано: plane\n",
      "Реально: plane\n",
      "\n",
      "Предсказано: deer\n",
      "Реально: frog\n",
      "\n",
      "Предсказано: frog\n",
      "Реально: frog\n",
      "\n",
      "Предсказано: cat\n",
      "Реально: car\n",
      "\n",
      "Предсказано: frog\n",
      "Реально: frog\n",
      "\n",
      "Предсказано: dog\n",
      "Реально: cat\n",
      "\n",
      "Предсказано: car\n",
      "Реально: car\n",
      "\n",
      "Предсказано: ship\n",
      "Реально: plane\n",
      "\n",
      "Предсказано: truck\n",
      "Реально: truck\n",
      "\n",
      "Предсказано: cat\n",
      "Реально: dog\n",
      "\n",
      "Предсказано: horse\n",
      "Реально: horse\n",
      "\n",
      "Предсказано: truck\n",
      "Реально: truck\n",
      "\n",
      "Предсказано: ship\n",
      "Реально: ship\n",
      "\n",
      "Предсказано: dog\n",
      "Реально: dog\n",
      "\n",
      "Предсказано: truck\n",
      "Реально: horse\n",
      "\n",
      "Предсказано: ship\n",
      "Реально: ship\n",
      "\n",
      "Предсказано: frog\n",
      "Реально: frog\n",
      "\n",
      "Предсказано: horse\n",
      "Реально: horse\n",
      "\n",
      "Предсказано: plane\n",
      "Реально: plane\n",
      "\n",
      "Предсказано: plane\n",
      "Реально: deer\n",
      "\n",
      "Предсказано: truck\n",
      "Реально: truck\n",
      "\n",
      "Из 24 угадано 16\n"
     ]
    }
   ],
   "source": [
    "net.eval()\n",
    "stop = 5\n",
    "verifi = 0\n",
    "for k, data in enumerate(test_loader):\n",
    "    inputs, labels = data[0].cuda(), data[1]\n",
    "    pred = net(inputs).cpu()\n",
    "    pred = pred.detach().numpy()\n",
    "    labels = labels.numpy()\n",
    "    for j, i in enumerate(pred):\n",
    "        ind_p = np.argmax(i)\n",
    "        ind_r = labels[j]\n",
    "        if ind_p == ind_r:\n",
    "            verifi += 1\n",
    "        print(f'Предсказано: {classes[ind_p]}\\nРеально: {classes[ind_r]}\\n')\n",
    "    if k == stop:\n",
    "        break\n",
    "print(f'Из {(stop + 1) * 4} угадано {verifi}' )\n"
   ]
  }
 ],
 "metadata": {
  "kernelspec": {
   "display_name": "Python 3",
   "language": "python",
   "name": "python3"
  },
  "language_info": {
   "codemirror_mode": {
    "name": "ipython",
    "version": 3
   },
   "file_extension": ".py",
   "mimetype": "text/x-python",
   "name": "python",
   "nbconvert_exporter": "python",
   "pygments_lexer": "ipython3",
   "version": "3.11.1"
  }
 },
 "nbformat": 4,
 "nbformat_minor": 2
}
