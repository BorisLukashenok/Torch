{
 "cells": [
  {
   "cell_type": "code",
   "execution_count": 1,
   "metadata": {},
   "outputs": [],
   "source": [
    "import torch"
   ]
  },
  {
   "cell_type": "code",
   "execution_count": 2,
   "metadata": {},
   "outputs": [
    {
     "data": {
      "text/plain": [
       "tensor([[[4.6286e-38, 1.4854e-43, 0.0000e+00, 1.1388e-38, 1.4854e-43],\n",
       "         [0.0000e+00, 1.0745e-38, 1.1429e-38, 5.0727e-43, 0.0000e+00],\n",
       "         [1.1388e-38, 8.6600e-43, 0.0000e+00, 1.1388e-38, 1.2247e-42],\n",
       "         [0.0000e+00, 1.1388e-38, 1.5835e-42, 0.0000e+00, 1.1388e-38]],\n",
       "\n",
       "        [[1.9422e-42, 0.0000e+00, 1.1388e-38, 2.3009e-42, 0.0000e+00],\n",
       "         [1.1388e-38, 2.6597e-42, 0.0000e+00, 1.1388e-38, 3.0184e-42],\n",
       "         [0.0000e+00, 1.1388e-38, 3.3771e-42, 0.0000e+00, 2.7685e-33],\n",
       "         [4.2980e-38, 0.0000e+00, 0.0000e+00, 1.7192e-37, 0.0000e+00]],\n",
       "\n",
       "        [[0.0000e+00, 6.8768e-37, 0.0000e+00, 0.0000e+00, 2.7507e-36],\n",
       "         [0.0000e+00, 0.0000e+00, 1.1003e-35, 0.0000e+00, 0.0000e+00],\n",
       "         [4.4012e-35, 0.0000e+00, 0.0000e+00, 1.7605e-34, 0.0000e+00],\n",
       "         [0.0000e+00, 7.0419e-34, 0.0000e+00, 0.0000e+00, 2.8167e-33]]])"
      ]
     },
     "execution_count": 2,
     "metadata": {},
     "output_type": "execute_result"
    }
   ],
   "source": [
    "# Создайте случайный FloatTensor размера 3x4x5\n",
    "x_ft = torch.FloatTensor(3, 4, 5)\n",
    "x_ft"
   ]
  },
  {
   "cell_type": "code",
   "execution_count": 3,
   "metadata": {},
   "outputs": [
    {
     "data": {
      "text/plain": [
       "torch.Size([3, 4, 5])"
      ]
     },
     "execution_count": 3,
     "metadata": {},
     "output_type": "execute_result"
    }
   ],
   "source": [
    "# Выведите его форму (shape)\n",
    "x_ft.size()"
   ]
  },
  {
   "cell_type": "code",
   "execution_count": 4,
   "metadata": {},
   "outputs": [
    {
     "data": {
      "text/plain": [
       "torch.Size([6, 10])"
      ]
     },
     "execution_count": 4,
     "metadata": {},
     "output_type": "execute_result"
    }
   ],
   "source": [
    "# Приведите его к форме 6 X 10\n",
    "x_ft_r = x_ft.reshape((6, 10))\n",
    "x_ft_r.shape"
   ]
  },
  {
   "cell_type": "code",
   "execution_count": 5,
   "metadata": {},
   "outputs": [
    {
     "data": {
      "text/plain": [
       "tensor([[6.9061e-38, 6.5837e-38, 3.4167e-38, 5.6941e-38],\n",
       "        [2.2782e-38, 3.4176e-38, 2.7686e-33, 3.8682e-37],\n",
       "        [5.5014e-36, 2.2006e-35, 3.9610e-34, 5.6335e-33]])"
      ]
     },
     "execution_count": 5,
     "metadata": {},
     "output_type": "execute_result"
    }
   ],
   "source": [
    "# Умножьте его на вектор [1, 4, 2, 2, 1] поэлементно\n",
    "x_ft @ torch.tensor([1, 4, 2, 2, 1], dtype=torch.float)"
   ]
  },
  {
   "cell_type": "code",
   "execution_count": 6,
   "metadata": {},
   "outputs": [
    {
     "data": {
      "text/plain": [
       "torch.Size([6, 6])"
      ]
     },
     "execution_count": 6,
     "metadata": {},
     "output_type": "execute_result"
    }
   ],
   "source": [
    "# Умножьте тензор матрично на себя, чтобы результат был размерности 6x6\n",
    "(x_ft_r @ torch.transpose(x_ft_r, 0, 1)).shape"
   ]
  },
  {
   "cell_type": "code",
   "execution_count": 7,
   "metadata": {},
   "outputs": [
    {
     "data": {
      "text/plain": [
       "(tensor(3.), tensor(1.), tensor(-75.))"
      ]
     },
     "execution_count": 7,
     "metadata": {},
     "output_type": "execute_result"
    }
   ],
   "source": [
    "# Посчитайте производную функции y = x**3 + z - 75t в точке (1, 0.5, 2)\n",
    "x = torch.tensor(1.0, requires_grad=True) \n",
    "z = torch.tensor(0.5, requires_grad=True) \n",
    "t = torch.tensor(2.0, requires_grad=True) \n",
    "y = x**3 + z - 75 * t\n",
    "y.backward() \n",
    "x.grad, z.grad, t.grad "
   ]
  },
  {
   "cell_type": "code",
   "execution_count": 8,
   "metadata": {},
   "outputs": [
    {
     "data": {
      "text/plain": [
       "tensor([[1., 1., 1., 1., 1., 1.],\n",
       "        [1., 1., 1., 1., 1., 1.],\n",
       "        [1., 1., 1., 1., 1., 1.],\n",
       "        [1., 1., 1., 1., 1., 1.],\n",
       "        [1., 1., 1., 1., 1., 1.]])"
      ]
     },
     "execution_count": 8,
     "metadata": {},
     "output_type": "execute_result"
    }
   ],
   "source": [
    "# Создайте единичный тензор размера 5x6\n",
    "xx = torch.ones(5, 6)\n",
    "xx"
   ]
  },
  {
   "cell_type": "code",
   "execution_count": 9,
   "metadata": {},
   "outputs": [
    {
     "data": {
      "text/plain": [
       "array([[1., 1., 1., 1., 1., 1.],\n",
       "       [1., 1., 1., 1., 1., 1.],\n",
       "       [1., 1., 1., 1., 1., 1.],\n",
       "       [1., 1., 1., 1., 1., 1.],\n",
       "       [1., 1., 1., 1., 1., 1.]], dtype=float32)"
      ]
     },
     "execution_count": 9,
     "metadata": {},
     "output_type": "execute_result"
    }
   ],
   "source": [
    "# Переведите его в формат numpy\n",
    "xx = xx.numpy()\n",
    "xx"
   ]
  }
 ],
 "metadata": {
  "kernelspec": {
   "display_name": "Python 3",
   "language": "python",
   "name": "python3"
  },
  "language_info": {
   "codemirror_mode": {
    "name": "ipython",
    "version": 3
   },
   "file_extension": ".py",
   "mimetype": "text/x-python",
   "name": "python",
   "nbconvert_exporter": "python",
   "pygments_lexer": "ipython3",
   "version": "3.11.1"
  }
 },
 "nbformat": 4,
 "nbformat_minor": 2
}
